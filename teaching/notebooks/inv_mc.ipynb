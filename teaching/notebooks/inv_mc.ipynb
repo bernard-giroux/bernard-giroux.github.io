{
 "cells": [
  {
   "cell_type": "code",
   "execution_count": 35,
   "metadata": {},
   "outputs": [],
   "source": [
    "import numpy as np\n",
    "import scipy.sparse.linalg as sp\n",
    "import matplotlib.pyplot as plt\n",
    "plt.style.use('seaborn-notebook')"
   ]
  },
  {
   "cell_type": "markdown",
   "metadata": {},
   "source": [
    "# Moindres-carrés - Solution numérique\n",
    "\n",
    "## Solveur direct\n",
    "\n",
    "On a vu que la solution par moindres-carrés du problème inverse linéaire est\n",
    "\n",
    "$\\mathbf{m}^{\\text{est}} = \\left[\\mathbf{G}^T\\mathbf{G}\\right]^{-1}\\mathbf{G}^T\\mathbf{d}$\n",
    "\n",
    "Une façon de calculer cette réponse est de \n",
    "- calculer la matrice $\\mathbf{G}^T\\mathbf{G}$, qu'on stock dans $\\mathbf{A}$\n",
    "- calculer l'inverse de $\\mathbf{A}$\n",
    "- calculer le vecteur $\\mathbf{G}^T\\mathbf{d}$, qu'on stock dans $\\mathbf{b}$\n",
    "- calculer le produit $\\mathbf{A}^{-1}\\mathbf{b}$\n",
    "\n",
    "En python, on peut utiliser la fonction ```numpy.linalg.solve``` pour ce faire."
   ]
  },
  {
   "cell_type": "code",
   "execution_count": 36,
   "metadata": {},
   "outputs": [
    {
     "name": "stdout",
     "output_type": "stream",
     "text": [
      "Help on function solve in module numpy.linalg.linalg:\n",
      "\n",
      "solve(a, b)\n",
      "    Solve a linear matrix equation, or system of linear scalar equations.\n",
      "    \n",
      "    Computes the \"exact\" solution, `x`, of the well-determined, i.e., full\n",
      "    rank, linear matrix equation `ax = b`.\n",
      "    \n",
      "    Parameters\n",
      "    ----------\n",
      "    a : (..., M, M) array_like\n",
      "        Coefficient matrix.\n",
      "    b : {(..., M,), (..., M, K)}, array_like\n",
      "        Ordinate or \"dependent variable\" values.\n",
      "    \n",
      "    Returns\n",
      "    -------\n",
      "    x : {(..., M,), (..., M, K)} ndarray\n",
      "        Solution to the system a x = b.  Returned shape is identical to `b`.\n",
      "    \n",
      "    Raises\n",
      "    ------\n",
      "    LinAlgError\n",
      "        If `a` is singular or not square.\n",
      "    \n",
      "    Notes\n",
      "    -----\n",
      "    \n",
      "    .. versionadded:: 1.8.0\n",
      "    \n",
      "    Broadcasting rules apply, see the `numpy.linalg` documentation for\n",
      "    details.\n",
      "    \n",
      "    The solutions are computed using LAPACK routine _gesv\n",
      "    \n",
      "    `a` must be square and of full-rank, i.e., all rows (or, equivalently,\n",
      "    columns) must be linearly independent; if either is not true, use\n",
      "    `lstsq` for the least-squares best \"solution\" of the\n",
      "    system/equation.\n",
      "    \n",
      "    References\n",
      "    ----------\n",
      "    .. [1] G. Strang, *Linear Algebra and Its Applications*, 2nd Ed., Orlando,\n",
      "           FL, Academic Press, Inc., 1980, pg. 22.\n",
      "    \n",
      "    Examples\n",
      "    --------\n",
      "    Solve the system of equations ``3 * x0 + x1 = 9`` and ``x0 + 2 * x1 = 8``:\n",
      "    \n",
      "    >>> a = np.array([[3,1], [1,2]])\n",
      "    >>> b = np.array([9,8])\n",
      "    >>> x = np.linalg.solve(a, b)\n",
      "    >>> x\n",
      "    array([ 2.,  3.])\n",
      "    \n",
      "    Check that the solution is correct:\n",
      "    \n",
      "    >>> np.allclose(np.dot(a, x), b)\n",
      "    True\n",
      "\n"
     ]
    }
   ],
   "source": [
    "help(np.linalg.solve)"
   ]
  },
  {
   "cell_type": "markdown",
   "metadata": {},
   "source": [
    "Examinons un exemple en créant d'abord des points des points plus ou moins alignés."
   ]
  },
  {
   "cell_type": "code",
   "execution_count": 37,
   "metadata": {},
   "outputs": [
    {
     "data": {
      "image/png": "[encoded data removed]",
      "text/plain": [
       "<matplotlib.figure.Figure at 0x10e47edd8>"
      ]
     },
     "metadata": {},
     "output_type": "display_data"
    }
   ],
   "source": [
    "N = 30\n",
    "zmin = 0\n",
    "zmax = 10\n",
    "z = np.sort(zmin + zmax*np.random.rand(N, 1), axis=0)\n",
    "\n",
    "a = 2.0\n",
    "b = 1.0\n",
    "m = [a, b]\n",
    "sd = 1.0\n",
    "dobs = m[0] + m[1] * z + sd*np.random.randn(N, 1)\n",
    "\n",
    "plt.plot(z, dobs, 'o')\n",
    "plt.xlabel('z', fontsize=16)\n",
    "plt.ylabel('d', fontsize=16)\n",
    "plt.show()"
   ]
  },
  {
   "cell_type": "markdown",
   "metadata": {},
   "source": [
    "On construit ensuite la matrice $\\mathbf{G}$, qui est égale à\n",
    "\n",
    "\\begin{equation}\n",
    "\\begin{bmatrix}\n",
    "1 & z_0 \\\\\n",
    "1 & z_1 \\\\\n",
    "1 & z_2 \\\\\n",
    "\\vdots & \\vdots \\\\\n",
    "1 & z_{N-1}\n",
    "\\end{bmatrix}\n",
    "\\end{equation}"
   ]
  },
  {
   "cell_type": "code",
   "execution_count": 38,
   "metadata": {},
   "outputs": [],
   "source": [
    "G = np.hstack((np.ones((N, 1)), z))"
   ]
  },
  {
   "cell_type": "markdown",
   "metadata": {},
   "source": [
    "On peut passer $\\mathbf{G}^T\\mathbf{G}$ et $\\mathbf{G}^T\\mathbf{d}$ directement en argument à ```numpy.linalg.solve```"
   ]
  },
  {
   "cell_type": "code",
   "execution_count": 39,
   "metadata": {},
   "outputs": [
    {
     "name": "stdout",
     "output_type": "stream",
     "text": [
      "[[2.39209436]\n",
      " [0.98795292]]\n"
     ]
    }
   ],
   "source": [
    "mest = np.linalg.solve(G.T.dot(G), G.T.dot(dobs))\n",
    "print(mest)\n",
    "dpre = G.dot(mest)"
   ]
  },
  {
   "cell_type": "code",
   "execution_count": 40,
   "metadata": {},
   "outputs": [
    {
     "data": {
      "image/png": "[encoded data removed]",
      "text/plain": [
       "<matplotlib.figure.Figure at 0x10e197550>"
      ]
     },
     "metadata": {},
     "output_type": "display_data"
    }
   ],
   "source": [
    "plt.plot(z, dobs, 'o')\n",
    "plt.plot(z, dpre, '-')\n",
    "plt.xlabel('z', fontsize=16)\n",
    "plt.ylabel('d', fontsize=16)\n",
    "plt.show()"
   ]
  },
  {
   "cell_type": "markdown",
   "metadata": {},
   "source": [
    "## Solveurs itératifs\n",
    "\n",
    "Pour des problèmes courants, $N$ sera beaucoup plus élevé que 30.  Surtout, $M$ sera aussi plus grand que 2.  Par exemple, pour un inversion en gravimétrie sur une grille 3D de $100 \\times 100 \\times 100$, $M$ vaut $10^6$\n",
    "\n",
    "Le calcul de $\\mathbf{G}^T\\mathbf{G}$ peut alors être coûteux, en temps et en mémoire.  Le calcul de son inverse est également coûteux, voire prohibitif.\n",
    "\n",
    "On peut recourir à des solveurs _itératifs_ pour accélérer les calculs.\n",
    "\n",
    "Examinons le cas d'une équation cubique."
   ]
  },
  {
   "cell_type": "code",
   "execution_count": 41,
   "metadata": {},
   "outputs": [
    {
     "name": "stdout",
     "output_type": "stream",
     "text": [
      "[2.0, 1.0, 0.5, -0.05]\n",
      "[ 2.01314533  1.0092852   0.4992642  -0.05005061]\n"
     ]
    }
   ],
   "source": [
    "N = 10000\n",
    "\n",
    "z = np.sort(zmin + zmax*np.random.rand(N, 1), axis=0)\n",
    "\n",
    "a = 2.0\n",
    "b = 1.0\n",
    "c = 0.5\n",
    "d = -0.05\n",
    "m = [a, b, c, d]\n",
    "sd = 1.0\n",
    "dobs = m[0] + m[1]*z + m[2]*z**2 + m[3]*z**3 + sd*np.random.randn(N, 1)\n",
    "\n",
    "G = np.hstack((np.ones((N, 1)), z, z**2, z**3))\n",
    "\n",
    "mest1 = np.linalg.solve(G.T.dot(G), G.T.dot(dobs))\n",
    "\n",
    "print(m)\n",
    "print(mest1.flatten())"
   ]
  },
  {
   "cell_type": "code",
   "execution_count": 42,
   "metadata": {
    "scrolled": false
   },
   "outputs": [
    {
     "data": {
      "image/png": "[encoded data removed]",
      "text/plain": [
       "<matplotlib.figure.Figure at 0x10e6cfcc0>"
      ]
     },
     "metadata": {},
     "output_type": "display_data"
    }
   ],
   "source": [
    "dpre1 = G.dot(mest1)\n",
    "plt.plot(z, dobs, 'o')\n",
    "plt.plot(z, dpre1, '-', linewidth=4)\n",
    "plt.xlabel('z', fontsize=16)\n",
    "plt.ylabel('d', fontsize=16)\n",
    "plt.show()"
   ]
  },
  {
   "cell_type": "markdown",
   "metadata": {},
   "source": [
    "L'algorithme du gradient biconjugué implémenté dans le module ```scipy.sparse.linalg``` est utilisé pour cet exemple.  Cette implémentation permet l'utilisation d'un objet ```LinearOperator``` à la place de la matrice $\\mathbf{A}$, ce qui permet _d'éviter entièrement le calcul_ de $\\mathbf{G}^T\\mathbf{G}$"
   ]
  },
  {
   "cell_type": "code",
   "execution_count": 43,
   "metadata": {},
   "outputs": [
    {
     "name": "stdout",
     "output_type": "stream",
     "text": [
      "Help on function bicg in module scipy.sparse.linalg.isolve.iterative:\n",
      "\n",
      "bicg(A, b, x0=None, tol=1e-05, maxiter=None, M=None, callback=None)\n",
      "    Use BIConjugate Gradient iteration to solve ``Ax = b``.\n",
      "    \n",
      "    Parameters\n",
      "    ----------\n",
      "    A : {sparse matrix, dense matrix, LinearOperator}\n",
      "        The real or complex N-by-N matrix of the linear system.\n",
      "        It is required that the linear operator can produce\n",
      "        ``Ax`` and ``A^T x``.\n",
      "    b : {array, matrix}\n",
      "        Right hand side of the linear system. Has shape (N,) or (N,1).\n",
      "    \n",
      "    Returns\n",
      "    -------\n",
      "    x : {array, matrix}\n",
      "        The converged solution.\n",
      "    info : integer\n",
      "        Provides convergence information:\n",
      "            0  : successful exit\n",
      "            >0 : convergence to tolerance not achieved, number of iterations\n",
      "            <0 : illegal input or breakdown\n",
      "    \n",
      "    Other Parameters\n",
      "    ----------------\n",
      "    x0  : {array, matrix}\n",
      "        Starting guess for the solution.\n",
      "    tol : float\n",
      "        Tolerance to achieve. The algorithm terminates when either the relative\n",
      "        or the absolute residual is below `tol`.\n",
      "    maxiter : integer\n",
      "        Maximum number of iterations.  Iteration will stop after maxiter\n",
      "        steps even if the specified tolerance has not been achieved.\n",
      "    M : {sparse matrix, dense matrix, LinearOperator}\n",
      "        Preconditioner for A.  The preconditioner should approximate the\n",
      "        inverse of A.  Effective preconditioning dramatically improves the\n",
      "        rate of convergence, which implies that fewer iterations are needed\n",
      "        to reach a given error tolerance.\n",
      "    callback : function\n",
      "        User-supplied function to call after each iteration.  It is called\n",
      "        as callback(xk), where xk is the current solution vector.\n",
      "\n"
     ]
    }
   ],
   "source": [
    "help(sp.bicg)"
   ]
  },
  {
   "cell_type": "code",
   "execution_count": 44,
   "metadata": {},
   "outputs": [
    {
     "name": "stdout",
     "output_type": "stream",
     "text": [
      "Help on class LinearOperator in module scipy.sparse.linalg.interface:\n",
      "\n",
      "class LinearOperator(builtins.object)\n",
      " |  Common interface for performing matrix vector products\n",
      " |  \n",
      " |  Many iterative methods (e.g. cg, gmres) do not need to know the\n",
      " |  individual entries of a matrix to solve a linear system A*x=b.\n",
      " |  Such solvers only require the computation of matrix vector\n",
      " |  products, A*v where v is a dense vector.  This class serves as\n",
      " |  an abstract interface between iterative solvers and matrix-like\n",
      " |  objects.\n",
      " |  \n",
      " |  To construct a concrete LinearOperator, either pass appropriate\n",
      " |  callables to the constructor of this class, or subclass it.\n",
      " |  \n",
      " |  A subclass must implement either one of the methods ``_matvec``\n",
      " |  and ``_matmat``, and the attributes/properties ``shape`` (pair of\n",
      " |  integers) and ``dtype`` (may be None). It may call the ``__init__``\n",
      " |  on this class to have these attributes validated. Implementing\n",
      " |  ``_matvec`` automatically implements ``_matmat`` (using a naive\n",
      " |  algorithm) and vice-versa.\n",
      " |  \n",
      " |  Optionally, a subclass may implement ``_rmatvec`` or ``_adjoint``\n",
      " |  to implement the Hermitian adjoint (conjugate transpose). As with\n",
      " |  ``_matvec`` and ``_matmat``, implementing either ``_rmatvec`` or\n",
      " |  ``_adjoint`` implements the other automatically. Implementing\n",
      " |  ``_adjoint`` is preferable; ``_rmatvec`` is mostly there for\n",
      " |  backwards compatibility.\n",
      " |  \n",
      " |  Parameters\n",
      " |  ----------\n",
      " |  shape : tuple\n",
      " |      Matrix dimensions (M,N).\n",
      " |  matvec : callable f(v)\n",
      " |      Returns returns A * v.\n",
      " |  rmatvec : callable f(v)\n",
      " |      Returns A^H * v, where A^H is the conjugate transpose of A.\n",
      " |  matmat : callable f(V)\n",
      " |      Returns A * V, where V is a dense matrix with dimensions (N,K).\n",
      " |  dtype : dtype\n",
      " |      Data type of the matrix.\n",
      " |  \n",
      " |  Attributes\n",
      " |  ----------\n",
      " |  args : tuple\n",
      " |      For linear operators describing products etc. of other linear\n",
      " |      operators, the operands of the binary operation.\n",
      " |  \n",
      " |  See Also\n",
      " |  --------\n",
      " |  aslinearoperator : Construct LinearOperators\n",
      " |  \n",
      " |  Notes\n",
      " |  -----\n",
      " |  The user-defined matvec() function must properly handle the case\n",
      " |  where v has shape (N,) as well as the (N,1) case.  The shape of\n",
      " |  the return type is handled internally by LinearOperator.\n",
      " |  \n",
      " |  LinearOperator instances can also be multiplied, added with each\n",
      " |  other and exponentiated, all lazily: the result of these operations\n",
      " |  is always a new, composite LinearOperator, that defers linear\n",
      " |  operations to the original operators and combines the results.\n",
      " |  \n",
      " |  Examples\n",
      " |  --------\n",
      " |  >>> import numpy as np\n",
      " |  >>> from scipy.sparse.linalg import LinearOperator\n",
      " |  >>> def mv(v):\n",
      " |  ...     return np.array([2*v[0], 3*v[1]])\n",
      " |  ...\n",
      " |  >>> A = LinearOperator((2,2), matvec=mv)\n",
      " |  >>> A\n",
      " |  <2x2 _CustomLinearOperator with dtype=float64>\n",
      " |  >>> A.matvec(np.ones(2))\n",
      " |  array([ 2.,  3.])\n",
      " |  >>> A * np.ones(2)\n",
      " |  array([ 2.,  3.])\n",
      " |  \n",
      " |  Methods defined here:\n",
      " |  \n",
      " |  __add__(self, x)\n",
      " |  \n",
      " |  __call__(self, x)\n",
      " |      Call self as a function.\n",
      " |  \n",
      " |  __init__(self, dtype, shape)\n",
      " |      Initialize this LinearOperator.\n",
      " |      \n",
      " |      To be called by subclasses. ``dtype`` may be None; ``shape`` should\n",
      " |      be convertible to a length-2 tuple.\n",
      " |  \n",
      " |  __matmul__(self, other)\n",
      " |  \n",
      " |  __mul__(self, x)\n",
      " |  \n",
      " |  __neg__(self)\n",
      " |  \n",
      " |  __pow__(self, p)\n",
      " |  \n",
      " |  __repr__(self)\n",
      " |      Return repr(self).\n",
      " |  \n",
      " |  __rmatmul__(self, other)\n",
      " |  \n",
      " |  __rmul__(self, x)\n",
      " |  \n",
      " |  __sub__(self, x)\n",
      " |  \n",
      " |  adjoint(self)\n",
      " |      Hermitian adjoint.\n",
      " |      \n",
      " |      Returns the Hermitian adjoint of self, aka the Hermitian\n",
      " |      conjugate or Hermitian transpose. For a complex matrix, the\n",
      " |      Hermitian adjoint is equal to the conjugate transpose.\n",
      " |      \n",
      " |      Can be abbreviated self.H instead of self.adjoint().\n",
      " |      \n",
      " |      Returns\n",
      " |      -------\n",
      " |      A_H : LinearOperator\n",
      " |          Hermitian adjoint of self.\n",
      " |  \n",
      " |  dot(self, x)\n",
      " |      Matrix-matrix or matrix-vector multiplication.\n",
      " |      \n",
      " |      Parameters\n",
      " |      ----------\n",
      " |      x : array_like\n",
      " |          1-d or 2-d array, representing a vector or matrix.\n",
      " |      \n",
      " |      Returns\n",
      " |      -------\n",
      " |      Ax : array\n",
      " |          1-d or 2-d array (depending on the shape of x) that represents\n",
      " |          the result of applying this linear operator on x.\n",
      " |  \n",
      " |  matmat(self, X)\n",
      " |      Matrix-matrix multiplication.\n",
      " |      \n",
      " |      Performs the operation y=A*X where A is an MxN linear\n",
      " |      operator and X dense N*K matrix or ndarray.\n",
      " |      \n",
      " |      Parameters\n",
      " |      ----------\n",
      " |      X : {matrix, ndarray}\n",
      " |          An array with shape (N,K).\n",
      " |      \n",
      " |      Returns\n",
      " |      -------\n",
      " |      Y : {matrix, ndarray}\n",
      " |          A matrix or ndarray with shape (M,K) depending on\n",
      " |          the type of the X argument.\n",
      " |      \n",
      " |      Notes\n",
      " |      -----\n",
      " |      This matmat wraps any user-specified matmat routine or overridden\n",
      " |      _matmat method to ensure that y has the correct type.\n",
      " |  \n",
      " |  matvec(self, x)\n",
      " |      Matrix-vector multiplication.\n",
      " |      \n",
      " |      Performs the operation y=A*x where A is an MxN linear\n",
      " |      operator and x is a column vector or 1-d array.\n",
      " |      \n",
      " |      Parameters\n",
      " |      ----------\n",
      " |      x : {matrix, ndarray}\n",
      " |          An array with shape (N,) or (N,1).\n",
      " |      \n",
      " |      Returns\n",
      " |      -------\n",
      " |      y : {matrix, ndarray}\n",
      " |          A matrix or ndarray with shape (M,) or (M,1) depending\n",
      " |          on the type and shape of the x argument.\n",
      " |      \n",
      " |      Notes\n",
      " |      -----\n",
      " |      This matvec wraps the user-specified matvec routine or overridden\n",
      " |      _matvec method to ensure that y has the correct shape and type.\n",
      " |  \n",
      " |  rmatvec(self, x)\n",
      " |      Adjoint matrix-vector multiplication.\n",
      " |      \n",
      " |      Performs the operation y = A^H * x where A is an MxN linear\n",
      " |      operator and x is a column vector or 1-d array.\n",
      " |      \n",
      " |      Parameters\n",
      " |      ----------\n",
      " |      x : {matrix, ndarray}\n",
      " |          An array with shape (M,) or (M,1).\n",
      " |      \n",
      " |      Returns\n",
      " |      -------\n",
      " |      y : {matrix, ndarray}\n",
      " |          A matrix or ndarray with shape (N,) or (N,1) depending\n",
      " |          on the type and shape of the x argument.\n",
      " |      \n",
      " |      Notes\n",
      " |      -----\n",
      " |      This rmatvec wraps the user-specified rmatvec routine or overridden\n",
      " |      _rmatvec method to ensure that y has the correct shape and type.\n",
      " |  \n",
      " |  transpose(self)\n",
      " |      Transpose this linear operator.\n",
      " |      \n",
      " |      Returns a LinearOperator that represents the transpose of this one.\n",
      " |      Can be abbreviated self.T instead of self.transpose().\n",
      " |  \n",
      " |  ----------------------------------------------------------------------\n",
      " |  Static methods defined here:\n",
      " |  \n",
      " |  __new__(cls, *args, **kwargs)\n",
      " |      Create and return a new object.  See help(type) for accurate signature.\n",
      " |  \n",
      " |  ----------------------------------------------------------------------\n",
      " |  Data descriptors defined here:\n",
      " |  \n",
      " |  H\n",
      " |      Hermitian adjoint.\n",
      " |      \n",
      " |      Returns the Hermitian adjoint of self, aka the Hermitian\n",
      " |      conjugate or Hermitian transpose. For a complex matrix, the\n",
      " |      Hermitian adjoint is equal to the conjugate transpose.\n",
      " |      \n",
      " |      Can be abbreviated self.H instead of self.adjoint().\n",
      " |      \n",
      " |      Returns\n",
      " |      -------\n",
      " |      A_H : LinearOperator\n",
      " |          Hermitian adjoint of self.\n",
      " |  \n",
      " |  T\n",
      " |      Transpose this linear operator.\n",
      " |      \n",
      " |      Returns a LinearOperator that represents the transpose of this one.\n",
      " |      Can be abbreviated self.T instead of self.transpose().\n",
      " |  \n",
      " |  __dict__\n",
      " |      dictionary for instance variables (if defined)\n",
      " |  \n",
      " |  __weakref__\n",
      " |      list of weak references to the object (if defined)\n",
      "\n"
     ]
    }
   ],
   "source": [
    "help(sp.LinearOperator)"
   ]
  },
  {
   "cell_type": "code",
   "execution_count": 45,
   "metadata": {},
   "outputs": [],
   "source": [
    "M = 4\n",
    "def lsfcn(v):\n",
    "    return G.T.dot(G.dot(v))\n",
    "\n",
    "# G est une matrice réelle, on oeut utiliser lsfcn pour rmatvec\n",
    "\n",
    "A = sp.LinearOperator((M, M), matvec=lsfcn, rmatvec=lsfcn) \n"
   ]
  },
  {
   "cell_type": "markdown",
   "metadata": {},
   "source": [
    "L'objet ```A``` "
   ]
  },
  {
   "cell_type": "code",
   "execution_count": 46,
   "metadata": {},
   "outputs": [
    {
     "name": "stdout",
     "output_type": "stream",
     "text": [
      "[2.0, 1.0, 0.5, -0.05]\n",
      "[ 2.01314533  1.0092852   0.4992642  -0.05005061]\n"
     ]
    }
   ],
   "source": [
    "tol = 1.e-6\n",
    "maxit = 3*N\n",
    "mest2, info = sp.bicg(A, G.T.dot(dobs), tol=tol, maxiter=maxit)\n",
    "\n",
    "print(m)\n",
    "print(mest2)"
   ]
  },
  {
   "cell_type": "markdown",
   "metadata": {},
   "source": [
    "Les paramètres de convergence sont importants..."
   ]
  },
  {
   "cell_type": "code",
   "execution_count": 47,
   "metadata": {},
   "outputs": [
    {
     "name": "stdout",
     "output_type": "stream",
     "text": [
      "[2.0, 1.0, 0.5, -0.05]\n",
      "[ 1.36588802  1.56644773  0.3807765  -0.04289622]\n"
     ]
    }
   ],
   "source": [
    "mest3, info = sp.bicg(A, G.T.dot(dobs))\n",
    "\n",
    "print(m)\n",
    "print(mest3)"
   ]
  },
  {
   "cell_type": "code",
   "execution_count": 48,
   "metadata": {},
   "outputs": [
    {
     "data": {
      "image/png": "[encoded data removed]",
      "text/plain": [
       "<matplotlib.figure.Figure at 0x10e8bd8d0>"
      ]
     },
     "metadata": {},
     "output_type": "display_data"
    }
   ],
   "source": [
    "dpre2 = G.dot(mest2)\n",
    "dpre3 = G.dot(mest3)\n",
    "\n",
    "plt.plot(z, dobs, 'o')\n",
    "plt.plot(z, dpre1, '-', linewidth=4)\n",
    "plt.plot(z, dpre2, '--', linewidth=4)\n",
    "plt.plot(z, dpre3, ':', linewidth=4)\n",
    "\n",
    "plt.xlabel('z', fontsize=16)\n",
    "plt.ylabel('d', fontsize=16)\n",
    "plt.show()"
   ]
  },
  {
   "cell_type": "code",
   "execution_count": null,
   "metadata": {},
   "outputs": [],
   "source": []
  }
 ],
 "metadata": {
  "kernelspec": {
   "display_name": "Python 3",
   "language": "python",
   "name": "python3"
  },
  "language_info": {
   "codemirror_mode": {
    "name": "ipython",
    "version": 3
   },
   "file_extension": ".py",
   "mimetype": "text/x-python",
   "name": "python",
   "nbconvert_exporter": "python",
   "pygments_lexer": "ipython3",
   "version": "3.5.5"
  }
 },
 "nbformat": 4,
 "nbformat_minor": 2
}
