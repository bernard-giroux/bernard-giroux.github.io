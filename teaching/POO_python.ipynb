{
 "cells": [
  {
   "cell_type": "markdown",
   "metadata": {},
   "source": [
    "# GEO1302 - Modélisation et inversion en géophysique\n",
    "\n",
    "# Programmation orientée objet\n",
    "\n",
    "### Bernard Giroux\n",
    "### Hiver 2017\n",
    "\n",
    "### Version 1.0.0\n",
    "---\n"
   ]
  },
  {
   "cell_type": "markdown",
   "metadata": {
    "collapsed": true
   },
   "source": [
    "# POO et Python\n",
    "\n",
    "## Définition des classes\n",
    "\n",
    "- Python est un language dynamique:\n",
    "  - la définition des classes n’est pas nécéssairement fixée à l’avance\n",
    "  - on peut ajouter des attributs à un objet en tout temps"
   ]
  },
  {
   "cell_type": "code",
   "execution_count": null,
   "metadata": {
    "collapsed": false
   },
   "outputs": [],
   "source": [
    "import numpy as np\n",
    "\n",
    "class MaillageTriangulaire:\n",
    "    \"\"\"\n",
    "    Classe pour representer des maillages\n",
    "    Aucun attribut ni méthode prédéfini\n",
    "    \"\"\"\n",
    "\n",
    "mt = MaillageTriangulaire()  # création d'un objet MaillageTriangulaire\n",
    "print(mt)"
   ]
  },
  {
   "cell_type": "code",
   "execution_count": null,
   "metadata": {
    "collapsed": false
   },
   "outputs": [],
   "source": [
    "print(mt.__dict__)           # l'attribut spécial __dict__ contient la liste des attributs assignés à l'objet"
   ]
  },
  {
   "cell_type": "code",
   "execution_count": null,
   "metadata": {
    "collapsed": false
   },
   "outputs": [],
   "source": [
    "mt.noeuds = np.array([[0.0, 0.0],\n",
    "                  [1.0, 0.0],\n",
    "                  [0.0, 1.0]])\n",
    "mt.triangles = np.array([[0, 1, 2]])\n",
    "\n",
    "print(mt.__dict__)"
   ]
  },
  {
   "cell_type": "markdown",
   "metadata": {},
   "source": [
    "- Il n'est pas possible de faire de même pour des _méthodes_\n",
    "- En général, on défini à l'avance les attributs et les méthodes"
   ]
  },
  {
   "cell_type": "code",
   "execution_count": null,
   "metadata": {
    "collapsed": false
   },
   "outputs": [],
   "source": [
    "class MaillageTriangulaire:\n",
    "    \"\"\"\n",
    "    Classe pour representer des maillages\n",
    "    \"\"\"\n",
    "\n",
    "    def __init__(self, n, t):\n",
    "        \"\"\"Constructeur \"\"\"\n",
    "        self.noeuds = n\n",
    "        self.triangles = t\n",
    "        \n",
    "    def getLimites(self):\n",
    "        \"\"\"Retourne les min et max des noeuds\n",
    "        \"\"\"\n",
    "        return np.hstack((self.noeuds.min(axis=0),\n",
    "                          self.noeuds.max(axis=0)))\n",
    "\n",
    "\n",
    "# création d'un objet\n",
    "nod = np.array([[0.0,0.0], [1.0,0.0], [0.0,1.0]])\n",
    "tri = np.array([[0, 1, 2]])\n",
    "\n",
    "mt = MaillageTriangulaire(nod, tri)\n",
    "\n",
    "print(mt)"
   ]
  },
  {
   "cell_type": "code",
   "execution_count": null,
   "metadata": {
    "collapsed": false
   },
   "outputs": [],
   "source": [
    "print(mt.noeuds)"
   ]
  },
  {
   "cell_type": "code",
   "execution_count": null,
   "metadata": {
    "collapsed": false
   },
   "outputs": [],
   "source": [
    "print(mt.__dict__)"
   ]
  },
  {
   "cell_type": "markdown",
   "metadata": {},
   "source": [
    "### Appel des méthodes\n",
    "- 2 options possibles\n",
    "- la 1re notation est couramment utilisée dans d’autres languages comme C++, java, ..."
   ]
  },
  {
   "cell_type": "code",
   "execution_count": null,
   "metadata": {
    "collapsed": false
   },
   "outputs": [],
   "source": [
    "lim = mt.getLimites()\n",
    "print(lim)"
   ]
  },
  {
   "cell_type": "code",
   "execution_count": null,
   "metadata": {
    "collapsed": false
   },
   "outputs": [],
   "source": [
    "lim = MaillageTriangulaire.getLimites(mt)\n",
    "print(lim)"
   ]
  },
  {
   "cell_type": "markdown",
   "metadata": {},
   "source": [
    "### Encapsulation\n",
    "\n",
    "- Il est possible de _valider l’assignation aux attributs_"
   ]
  },
  {
   "cell_type": "code",
   "execution_count": null,
   "metadata": {
    "collapsed": false
   },
   "outputs": [],
   "source": [
    "class MaillageTriangulaire:\n",
    "    \"\"\"\n",
    "    Classe pour representer des maillages\n",
    "    \"\"\"\n",
    "\n",
    "    def __init__(self, n, t):\n",
    "        \"\"\"Constructeur \"\"\"\n",
    "        self.noeuds = n\n",
    "        self.triangles = t\n",
    "        \n",
    "    def getLimites(self):\n",
    "        \"\"\"Retourne les min et max des noeuds\n",
    "        \"\"\"\n",
    "        return np.hstack((self.noeuds.min(axis=0),\n",
    "                          self.noeuds.max(axis=0)))\n",
    "\n",
    "    @property\n",
    "    def noeuds(self):\n",
    "        return self._noeuds\n",
    "\n",
    "    @noeuds.setter\n",
    "    def noeuds(self, val):\n",
    "        tmp = np.array(val, dtype=np.float64)\n",
    "        if tmp.ndim != 2:\n",
    "            raise ValueError('2D array needed')\n",
    "        if tmp.shape[0]<3:\n",
    "            raise ValueError('3 nodes or more needed')\n",
    "        if tmp.shape[1] != 2:\n",
    "            raise ValueError('nodes: x z needed')\n",
    "        self._noeuds = tmp\n",
    "        \n",
    "    @property\n",
    "    def triangles(self):\n",
    "        return self._triangles\n",
    "    \n",
    "    @triangles.setter\n",
    "    def triangles(self, val):\n",
    "        tmp = np.array(val, dtype=np.int)\n",
    "        if tmp.ndim != 2:\n",
    "            raise ValueError('2D array needed')\n",
    "        if tmp.shape[1] != 3:\n",
    "            raise ValueError('3 indices needed')\n",
    "        self._triangles = tmp\n"
   ]
  },
  {
   "cell_type": "markdown",
   "metadata": {},
   "source": [
    "### Constructeur\n",
    "\n",
    "- Un constructeur est une méthode spéciale servant à créer les objets;\n",
    "- Le constructeur porte le nom `__init__`;\n",
    "- Lorsque l’assignation des attributs est validée (`setter`), le constructeur permet de valider les valeurs assignées aux attributs dès le départ."
   ]
  },
  {
   "cell_type": "code",
   "execution_count": null,
   "metadata": {
    "collapsed": false
   },
   "outputs": [],
   "source": [
    "tri = np.array([[0, 1, 2, 3]])\n",
    "mt2 = MaillageTriangulaire(nod, tri)"
   ]
  },
  {
   "cell_type": "markdown",
   "metadata": {},
   "source": [
    "## Copie d'objets\n",
    "\n",
    "En Python, toutes les variables sont des références vers des objets"
   ]
  },
  {
   "cell_type": "code",
   "execution_count": null,
   "metadata": {
    "collapsed": false
   },
   "outputs": [],
   "source": [
    "mt = MaillageTriangulaire(nod, tri)\n",
    "mt2 = mt\n",
    "print(mt.triangles)\n",
    "mt2.triangles = np.array([[5, 6, 7]])\n",
    "print(mt.triangles)"
   ]
  },
  {
   "cell_type": "markdown",
   "metadata": {},
   "source": [
    "Pour dupliquer un objet, il faut utiliser le module `copy`"
   ]
  },
  {
   "cell_type": "code",
   "execution_count": null,
   "metadata": {
    "collapsed": false
   },
   "outputs": [],
   "source": [
    "import copy\n",
    "\n",
    "mt2 = copy.copy(mt)\n",
    "mt2.triangles = np.array([[3, 4, 5]])\n",
    "print(mt.triangles)\n",
    "print(mt2.triangles)"
   ]
  },
  {
   "cell_type": "markdown",
   "metadata": {},
   "source": [
    "`copy.copy` copie l’objet et les références qu’il contient\n",
    "- si une de ces référence est un objet contenant des références, le 2e niveau de référence n’est pas dupliqué...\n",
    "- on parle de _shallow copy_"
   ]
  },
  {
   "cell_type": "code",
   "execution_count": null,
   "metadata": {
    "collapsed": false
   },
   "outputs": [],
   "source": [
    "class ID:\n",
    "    def __init__(self, v = 0):\n",
    "        self.value = v\n",
    "\n",
    "mt.id = ID()\n",
    "\n",
    "mt2 = copy.copy(mt)\n",
    "\n",
    "print(mt.id.value)\n",
    "print(mt2.id.value)\n",
    "\n",
    "mt2.id.value = 2\n",
    "print(mt.id.value)\n",
    "print(mt2.id.value)"
   ]
  },
  {
   "cell_type": "markdown",
   "metadata": {},
   "source": [
    "`copy.deepcopy` permet de régler le problème"
   ]
  },
  {
   "cell_type": "code",
   "execution_count": null,
   "metadata": {
    "collapsed": false
   },
   "outputs": [],
   "source": [
    "mt2 = copy.deepcopy(mt)\n",
    "\n",
    "print(mt.id.value)\n",
    "print(mt2.id.value)\n",
    "\n",
    "mt2.id.value = 4\n",
    "print(mt.id.value)\n",
    "print(mt2.id.value)"
   ]
  },
  {
   "cell_type": "markdown",
   "metadata": {},
   "source": [
    "## Classes dérivées et héritage\n",
    "\n",
    "- Problème type :\n",
    "  - On veut regrouper des données de terrain et de labo, traités ou non, dans une liste, pour pouvoir faire une série d’opérations communes pour ces données.\n",
    "- L’héritage est très pratique lorsqu’on veut regrouper des entitées différentes qui présentent des caractéristiques communes et des fonctionnalités communes.\n",
    "- Le point de départ est de définir une classe mère\n",
    "  - Ici, la classe mère est une classe abstraite, mais ce n'est pas obligatoire"
   ]
  },
  {
   "cell_type": "code",
   "execution_count": null,
   "metadata": {
    "collapsed": true
   },
   "outputs": [],
   "source": [
    "from abc import ABCMeta, abstractmethod\n",
    "\n",
    "class Donnees(metaclass=ABCMeta):\n",
    "    def __init__(self, dtype):\n",
    "        self.type = dtype\n",
    "        \n",
    "    @abstractmethod\n",
    "    def getValeurs(self): \n",
    "        pass\n",
    "    @abstractmethod\n",
    "    def getLocalisation(self): \n",
    "        pass\n",
    "    @abstractmethod\n",
    "    def plot(self, fig=None):\n",
    "        pass"
   ]
  },
  {
   "cell_type": "markdown",
   "metadata": {},
   "source": [
    "- Un peut maintenant créer une classe fille pour des données de terrain"
   ]
  },
  {
   "cell_type": "code",
   "execution_count": null,
   "metadata": {
    "collapsed": false
   },
   "outputs": [],
   "source": [
    "class DonneesTerrain(Donnees):\n",
    "    def __init__(self, dtype, data, loc):\n",
    "        Donnees.__init__(self, dtype)\n",
    "        self.val = np.array(data)\n",
    "        self.locali = np.array(loc)\n",
    "        \n",
    "    def getValeurs(self):\n",
    "        return self.val\n",
    "        \n",
    "    def getLocalisation(self):\n",
    "        return self.locali\n",
    "\n",
    "dt = DonneesTerrain('gravi', [4.0, 6.4, 3.1], [[3.0, 4.5],[7.6, 3.2],[6.5, 4.2]])"
   ]
  },
  {
   "cell_type": "markdown",
   "metadata": {},
   "source": [
    "- Il faut que toutes les méthodes abstraites de la classe mère soient définies dans la classe fille"
   ]
  },
  {
   "cell_type": "code",
   "execution_count": null,
   "metadata": {
    "collapsed": false
   },
   "outputs": [],
   "source": [
    "import matplotlib as mpl\n",
    "import matplotlib.pyplot as plt\n",
    "import matplotlib.cm as cm\n",
    "\n",
    "class DonneesTerrain(Donnees):\n",
    "    def __init__(self, dtype, data, loc):\n",
    "        Donnees.__init__(self, dtype)\n",
    "        self.val = np.array(data)\n",
    "        self.locali = np.array(loc)\n",
    "        \n",
    "    def getValeurs(self):\n",
    "        return self.val\n",
    "        \n",
    "    def getLocalisation(self):\n",
    "        return self.locali\n",
    "\n",
    "    def plot(self, fig=None):\n",
    "        if fig == None:\n",
    "            fig = plt.figure()\n",
    "\n",
    "        norm = mpl.colors.Normalize(vmin=np.min(self.val), vmax=np.max(self.val))\n",
    "        cmap = cm.jet\n",
    "        m = cm.ScalarMappable(norm=norm, cmap=cmap)\n",
    "        for n in np.arange(len(self.val)):\n",
    "            plt.plot(self.locali[n,0], self.locali[n,1], 'o',\n",
    "                     markerfacecolor=m.to_rgba(self.val[n]),\n",
    "                     markeredgecolor=m.to_rgba(self.val[n]))\n",
    "        return fig\n",
    "\n",
    "dt = DonneesTerrain('gravi', [4.0, 6.4, 3.1], [[3.0, 4.5],[7.6, 3.2],[6.5, 4.2]])\n",
    "dt.plot()"
   ]
  },
  {
   "cell_type": "markdown",
   "metadata": {},
   "source": [
    "- On a aussi des mesures en labo"
   ]
  },
  {
   "cell_type": "code",
   "execution_count": null,
   "metadata": {
    "collapsed": false
   },
   "outputs": [],
   "source": [
    "class DonneesLabo(Donnees):\n",
    "    def __init__(self, dtype, val, loc, no):\n",
    "        Donnees.__init__(self, dtype)\n",
    "        self.val = val\n",
    "        self.loc = loc\n",
    "        self.no_ech = no\n",
    "        \n",
    "    def getValeurs(self):\n",
    "        return self.val\n",
    "        \n",
    "    def getLocalisation(self):\n",
    "        return self.loc\n",
    "\n",
    "    def plot(self, fig=None):\n",
    "        if fig == None:\n",
    "            fig = plt.figure()\n",
    "\n",
    "        plt.plot(self.no_ech, self.val, 'sk')\n",
    "        return fig\n",
    "    \n",
    "dl = DonneesLabo('densité', 2.67, 'Site no 2', 1)\n",
    "dl2 = DonneesLabo('densité', 2.62, 'Site no 2', 2)\n",
    "\n",
    "f = dl.plot()\n",
    "dl2.plot(f)"
   ]
  },
  {
   "cell_type": "markdown",
   "metadata": {},
   "source": [
    "- On peut combiner toutes nos données dans une liste et appeler une méthode commune"
   ]
  },
  {
   "cell_type": "code",
   "execution_count": null,
   "metadata": {
    "collapsed": false
   },
   "outputs": [],
   "source": [
    "data = [dt, dl, dl2]\n",
    "\n",
    "for d in data:\n",
    "    print(d.getLocalisation())"
   ]
  },
  {
   "cell_type": "markdown",
   "metadata": {},
   "source": [
    "## Surcharge des méthodes\n",
    "\n",
    "- Surcharge: une méthode d'une classe mère est redéfinie dans une classe fille\n",
    "- Les méthodes du language Python qui peuvent être surchargées sont données au lien http://docs.python.org/3/reference/datamodel.html#specialnames\n",
    "    - Par exemple, la fonction `print` fait appel à la méthode `__str__` définie pour la classe mère `object`"
   ]
  },
  {
   "cell_type": "code",
   "execution_count": null,
   "metadata": {
    "collapsed": false
   },
   "outputs": [],
   "source": [
    "class MaillageTriangulaire:\n",
    "    def __init__(self, n, t):\n",
    "        \"\"\"Constructeur\n",
    "        \"\"\"\n",
    "        self.noeuds = n\n",
    "        self.triangles = t\n",
    "        \n",
    "    def getLimites(self):\n",
    "        \"\"\"Retourne les min et max des noeuds\n",
    "        \"\"\"\n",
    "        return np.hstack((self.noeuds.min(axis=0),\n",
    "                          self.noeuds.max(axis=0)))\n",
    "    \n",
    "    @property\n",
    "    def noeuds(self):\n",
    "        return self._noeuds\n",
    "    @noeuds.setter\n",
    "    def noeuds(self, val):\n",
    "        tmp = np.array(val, dtype=np.float64)\n",
    "        if tmp.ndim != 2:\n",
    "            raise ValueError('2D array needed')\n",
    "        if tmp.shape[0] < 3:\n",
    "            raise ValueError('3 nodes or more needed')\n",
    "        if tmp.shape[1] != 2:\n",
    "            raise ValueError('nodes: x z needed')\n",
    "        \n",
    "        self._noeuds = tmp\n",
    "        \n",
    "    @property\n",
    "    def triangles(self):\n",
    "        return self._triangles\n",
    "    @triangles.setter\n",
    "    def triangles(self, val):\n",
    "        tmp = np.array(val, dtype=np.int)\n",
    "        if tmp.ndim != 2:\n",
    "            raise ValueError('2D array needed')\n",
    "        if tmp.shape[1] != 3:\n",
    "            raise ValueError('3 indices needed')\n",
    "        \n",
    "        self._triangles = tmp\n",
    "        \n",
    "    def __str__(self):\n",
    "        return self.__class__.__name__+' ('+str(self.noeuds.shape[0])+' noeuds, '\\\n",
    "                                          +str(self.triangles.shape[0])+' triangles)'\n",
    "        \n",
    "\n",
    "nodes = np.array([[0.0, 0.0], [1.0, 0.0], [0.0, 1.0]])\n",
    "tri = np.array([[0, 1, 2]])\n",
    "mt = MaillageTriangulaire(nodes, tri)\n",
    "print(mt)"
   ]
  },
  {
   "cell_type": "markdown",
   "metadata": {},
   "source": [
    "---\n",
    "\n",
    "## Organisation des fichiers\n",
    "\n",
    "- Pour que votre classe soit facilement réutilisable,\n",
    "  - elle doit être définie et sauvegardée dans un fichier;\n",
    "  - elle peut ainsi être importée dans un autre fichier.\n",
    "- Ex.: la classe `MaillageTriangulaire` est définie dans un fichier `poo.py`, lui même dans un répertoire nommé `geo1302`"
   ]
  },
  {
   "cell_type": "code",
   "execution_count": null,
   "metadata": {
    "collapsed": false
   },
   "outputs": [],
   "source": [
    "%reset"
   ]
  },
  {
   "cell_type": "code",
   "execution_count": null,
   "metadata": {
    "collapsed": false
   },
   "outputs": [],
   "source": [
    "import geo1302.poo\n",
    "import numpy as np\n",
    "\n",
    "nod = np.array([[0.0, 0.0],\n",
    "                [1.0, 0.0],\n",
    "                [0.0, 1.0]])\n",
    "tri = np.array([[0, 1, 2]])\n",
    "mt = geo1302.poo.MaillageTriangulaire(nod, tri)\n",
    "print(mt)"
   ]
  },
  {
   "cell_type": "code",
   "execution_count": null,
   "metadata": {
    "collapsed": false
   },
   "outputs": [],
   "source": [
    "from geo1302.poo import MaillageTriangulaire\n",
    "\n",
    "mt2 = MaillageTriangulaire(nod, tri)\n",
    "print(mt2)"
   ]
  },
  {
   "cell_type": "markdown",
   "metadata": {
    "collapsed": true
   },
   "source": [
    "### Tests et déboguage\n",
    "\n",
    "- Il est possible de tester votre code sans créer un 2e fichier\n",
    "- Il faut simplement ajouter à la fin du fichier poo.py\n",
    "\n",
    "```python\n",
    "if __name__ == '__main__':\n",
    "    # test création MaillageTriangulaire\n",
    "    nod = np.array([[0.0, 0.0],\n",
    "                    [1.0, 0.0],\n",
    "                    [0.0, 1.0]])\n",
    "    tri = np.array([[0, 1, 2]])\n",
    "    mt = utils.MaillageTriangulaire(nod, tri)\n",
    "    print(mt.noeuds)\n",
    "```\n",
    "\n",
    "- Dans un terminal, saisir `python poo.py`\n",
    "  - la partie après `if __name__ == '__main__'` sera exécutée"
   ]
  },
  {
   "cell_type": "code",
   "execution_count": null,
   "metadata": {
    "collapsed": true
   },
   "outputs": [],
   "source": []
  }
 ],
 "metadata": {
  "kernelspec": {
   "display_name": "Python 3",
   "language": "python",
   "name": "python3"
  },
  "language_info": {
   "codemirror_mode": {
    "name": "ipython",
    "version": 3
   },
   "file_extension": ".py",
   "mimetype": "text/x-python",
   "name": "python",
   "nbconvert_exporter": "python",
   "pygments_lexer": "ipython3",
   "version": "3.5.2"
  }
 },
 "nbformat": 4,
 "nbformat_minor": 2
}
